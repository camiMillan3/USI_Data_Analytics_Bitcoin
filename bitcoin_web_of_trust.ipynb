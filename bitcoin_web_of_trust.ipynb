# Render our plots inline
%matplotlib inline
%config InlineBackend.figure_format = 'retina'
# Import requiered packages
import pandas as pd
import os
import requests
import csv
import numpy as np
import matplotlib
import matplotlib.pyplot as plt
import seaborn as sns
import pandas as pd
import matplotlib.pyplot as plt
import time
from datetime import datetime, timezone
import matplotlib.patches as mpatches
import networkx as nx
import math
columns=['source', 'target', 'rate', 'time']
data=pd.read_csv('soc-sign-bitcoinotc.csv', sep=",", names=columns, header=None)
data.head()
